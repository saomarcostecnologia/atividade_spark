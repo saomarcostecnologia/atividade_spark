{
 "cells": [
  {
   "cell_type": "code",
   "execution_count": 50,
   "metadata": {},
   "outputs": [
    {
     "name": "stdout",
     "output_type": "stream",
     "text": [
      "Defaulting to user installation because normal site-packages is not writeable\n",
      "Requirement already satisfied: pyspark in /home/gabriel/.local/lib/python3.10/site-packages (3.4.1)\n",
      "Requirement already satisfied: py4j==0.10.9.7 in /home/gabriel/.local/lib/python3.10/site-packages (from pyspark) (0.10.9.7)\n",
      "Note: you may need to restart the kernel to use updated packages.\n"
     ]
    }
   ],
   "source": [
    "pip install pyspark"
   ]
  },
  {
   "cell_type": "code",
   "execution_count": 51,
   "metadata": {},
   "outputs": [],
   "source": [
    "from pyspark.sql import SparkSession\n",
    "\n",
    "# Crie uma instância do SparkSession\n",
    "spark = SparkSession.builder.appName(\"atividadePUC\").getOrCreate()\n"
   ]
  },
  {
   "cell_type": "code",
   "execution_count": 52,
   "metadata": {},
   "outputs": [],
   "source": [
    "# Leitura de um arquivo CSV em um DataFrame\n",
    "itens_provas = spark.read.csv(\"enem2020/DADOS/ITENS_PROVA_2020.csv\", header=True, sep=\";\")\n",
    "microdados_enem = spark.read.csv(\"enem2020/DADOS/MICRODADOS_ENEM_2020.csv\", header=True, sep=\";\")\n",
    "dic_micro_dados = spark.read.csv(\"enem2020/DICIONÁRIO/Dicionário_Microdados_Enem_2020.xlsx\", header=True, sep=\";\")\n"
   ]
  },
  {
   "cell_type": "code",
   "execution_count": 53,
   "metadata": {},
   "outputs": [],
   "source": [
    "itens_provas.createOrReplaceTempView('ITENS_PROVA_2020')\n",
    "microdados_enem.createOrReplaceTempView('MICRODADOS_ENEM_2020')"
   ]
  },
  {
   "cell_type": "markdown",
   "metadata": {},
   "source": [
    "Quantas mulheres que moram sozinhas, estudaram numa escola no estado de SP fizeram a prova de Ciências Humanas do ENEM em 2020?\n",
    "\n",
    "#Q005 - 1 = Mora sozinho(a)\n",
    "#TP_SEXO = 'F'\n",
    "#SG_UF_ESC = 'sp'\n",
    "#CO_PROVA_CH <> '' ou Null"
   ]
  },
  {
   "cell_type": "code",
   "execution_count": 54,
   "metadata": {},
   "outputs": [
    {
     "name": "stderr",
     "output_type": "stream",
     "text": [
      "[Stage 64:====================================================>   (15 + 1) / 16]\r"
     ]
    },
    {
     "name": "stdout",
     "output_type": "stream",
     "text": [
      "Total de linhas: 65\n"
     ]
    },
    {
     "name": "stderr",
     "output_type": "stream",
     "text": [
      "                                                                                \r"
     ]
    }
   ],
   "source": [
    "pergunta_1 = spark.sql(\"\"\"\n",
    "SELECT \n",
    "    TP_SEXO as SEXO,\n",
    "    SG_UF_ESC as UF,\n",
    "    CO_PROVA_CH,\n",
    "    CO_UF_PROVA,\n",
    "    Q005 AS MORA_SOZINHA\n",
    "FROM \n",
    "    MICRODADOS_ENEM_2020\n",
    "WHERE \n",
    "    TP_SEXO = 'F'\n",
    "    AND SG_UF_ESC = 'SP'\n",
    "    AND TP_PRESENCA_CH = 1\n",
    "    AND Q005 = 1;\n",
    "\"\"\")\n",
    "                       \n",
    "\n",
    "# Conta o número total de linhas no DataFrame\n",
    "total_de_linhas = pergunta_1.count()\n",
    "\n",
    "# Exibe o total de linhas\n",
    "print(\"Total de linhas:\", total_de_linhas)"
   ]
  },
  {
   "cell_type": "markdown",
   "metadata": {},
   "source": [
    "Qual é o município (município da escola) que obteve a maior nota MÉDIA em matemática?\n",
    "\n",
    "#Group by NO_MUNICIPIO_ESC = nome do municipio\n",
    "# NU_NOTA_MT = nota matematica\n"
   ]
  },
  {
   "cell_type": "code",
   "execution_count": 55,
   "metadata": {},
   "outputs": [
    {
     "name": "stderr",
     "output_type": "stream",
     "text": [
      "[Stage 67:====================================================>   (15 + 1) / 16]\r"
     ]
    },
    {
     "name": "stdout",
     "output_type": "stream",
     "text": [
      "+--------------------+-----------------+---------------------+\n",
      "|           MUNICIPIO|   NOTA_MEDIA_MAT|CONTAGEM_PARTICPANTES|\n",
      "+--------------------+-----------------+---------------------+\n",
      "|          Novo Xingu|            836.1|                    1|\n",
      "|      Novo Itacolomi|            823.2|                    1|\n",
      "|    Coqueiros do Sul|            787.4|                    1|\n",
      "|           Biquinhas|            784.2|                    1|\n",
      "| Santa Clara d'Oeste|            738.0|                    1|\n",
      "| Santana do Manhua�u|            720.2|                    1|\n",
      "|            Jesu�nia|            714.7|                    1|\n",
      "|              Vanini|            713.4|                    1|\n",
      "|        Dolcin�polis|            711.4|                    1|\n",
      "|      Pedro Teixeira|            703.4|                    1|\n",
      "|              Flora�|            702.7|                    2|\n",
      "|           Ubiretama|696.6500000000001|                    2|\n",
      "|            Populina|            695.0|                    2|\n",
      "|         Forquetinha|            694.3|                    1|\n",
      "|          Campan�rio|            694.0|                    1|\n",
      "|        Parais�polis|691.3377777777777|                   45|\n",
      "|Vargem Grande do ...|691.1666666666666|                    3|\n",
      "|         Passa Vinte|           688.95|                    2|\n",
      "|            Holambra|680.8678571428571|                   56|\n",
      "|            Selv�ria|            677.3|                    1|\n",
      "|            Coroados|            677.2|                    1|\n",
      "|        Carlos Gomes|            677.0|                    2|\n",
      "|            Sobr�lia|          675.775|                    4|\n",
      "|Vista Alegre do Alto|            674.9|                    1|\n",
      "|Santa Cec�lia do Sul|            666.7|                    1|\n",
      "|                Ava�|            665.6|                    1|\n",
      "|             Guarani|            664.9|                    1|\n",
      "|           Buritizal|            664.3|                    1|\n",
      "|             Aguanil|            661.3|                    2|\n",
      "|  Fernandes Tourinho|657.1999999999999|                    4|\n",
      "|     Porto Vera Cruz|            655.4|                    2|\n",
      "|           Esmeralda|655.0666666666666|                    3|\n",
      "|       Monte Formoso|            653.6|                    1|\n",
      "|                �leo|            653.5|                    2|\n",
      "|Sebastian�polis d...|            653.2|                    1|\n",
      "|            Montauri|            652.7|                    1|\n",
      "|  Senador Jos� Bento|            651.9|                    1|\n",
      "|        Caetan�polis|650.9333333333333|                   12|\n",
      "|     Coronel Pacheco|            648.8|                    1|\n",
      "|             Guarar�|            648.8|                    1|\n",
      "|              Turu�u|            647.9|                    1|\n",
      "|        Vila L�ngaro|            647.6|                    1|\n",
      "|            Valinhos|645.8380042462845|                  471|\n",
      "|         Cerro Largo|644.4136363636364|                   44|\n",
      "|           Itaverava|            643.2|                    2|\n",
      "|          Onda Verde|            642.7|                    1|\n",
      "|           Indiapor�|            642.5|                    1|\n",
      "|         Paulist�nia|           641.25|                    2|\n",
      "|           Nova Lima|639.8063241106721|                  253|\n",
      "|    Leandro Ferreira|            638.3|                    1|\n",
      "+--------------------+-----------------+---------------------+\n",
      "only showing top 50 rows\n",
      "\n"
     ]
    },
    {
     "name": "stderr",
     "output_type": "stream",
     "text": [
      "                                                                                \r"
     ]
    }
   ],
   "source": [
    "spark.sql(\"\"\"\n",
    "SELECT \n",
    "    NO_MUNICIPIO_ESC AS MUNICIPIO,\n",
    "    AVG(NU_NOTA_MT) AS NOTA_MEDIA_MAT,\n",
    "    COUNT(NU_INSCRICAO) AS CONTAGEM_PARTICPANTES\n",
    "FROM \n",
    "    MICRODADOS_ENEM_2020\n",
    "WHERE \n",
    "    NU_NOTA_MT IS NOT NULL\n",
    "GROUP BY \n",
    "    NO_MUNICIPIO_ESC\n",
    "ORDER BY \n",
    "    NOTA_MEDIA_MAT DESC\n",
    "\"\"\").show()\n"
   ]
  },
  {
   "cell_type": "code",
   "execution_count": 56,
   "metadata": {},
   "outputs": [
    {
     "name": "stdout",
     "output_type": "stream",
     "text": [
      "+------------+------+---------------+-------+---------------+-----------+----------------+---------------+---------------+---------+---------+------------+----------------+-------------------+---------+---------+----------------------+------------------+---------------+------------------+--------------------+-----------+-----------+--------------+--------------+--------------+--------------+-----------+-----------+-----------+-----------+----------+----------+----------+----------+--------------------+--------------------+--------------------+--------------------+---------+--------------------+--------------------+--------------------+--------------------+-----------------+-------------+-------------+-------------+-------------+-------------+---------------+----+----+----+----+----+----+----+----+----+----+----+----+----+----+----+----+----+----+----+----+----+----+----+----+----+\n",
      "|NU_INSCRICAO|NU_ANO|TP_FAIXA_ETARIA|TP_SEXO|TP_ESTADO_CIVIL|TP_COR_RACA|TP_NACIONALIDADE|TP_ST_CONCLUSAO|TP_ANO_CONCLUIU|TP_ESCOLA|TP_ENSINO|IN_TREINEIRO|CO_MUNICIPIO_ESC|   NO_MUNICIPIO_ESC|CO_UF_ESC|SG_UF_ESC|TP_DEPENDENCIA_ADM_ESC|TP_LOCALIZACAO_ESC|TP_SIT_FUNC_ESC|CO_MUNICIPIO_PROVA|  NO_MUNICIPIO_PROVA|CO_UF_PROVA|SG_UF_PROVA|TP_PRESENCA_CN|TP_PRESENCA_CH|TP_PRESENCA_LC|TP_PRESENCA_MT|CO_PROVA_CN|CO_PROVA_CH|CO_PROVA_LC|CO_PROVA_MT|NU_NOTA_CN|NU_NOTA_CH|NU_NOTA_LC|NU_NOTA_MT|     TX_RESPOSTAS_CN|     TX_RESPOSTAS_CH|     TX_RESPOSTAS_LC|     TX_RESPOSTAS_MT|TP_LINGUA|      TX_GABARITO_CN|      TX_GABARITO_CH|      TX_GABARITO_LC|      TX_GABARITO_MT|TP_STATUS_REDACAO|NU_NOTA_COMP1|NU_NOTA_COMP2|NU_NOTA_COMP3|NU_NOTA_COMP4|NU_NOTA_COMP5|NU_NOTA_REDACAO|Q001|Q002|Q003|Q004|Q005|Q006|Q007|Q008|Q009|Q010|Q011|Q012|Q013|Q014|Q015|Q016|Q017|Q018|Q019|Q020|Q021|Q022|Q023|Q024|Q025|\n",
      "+------------+------+---------------+-------+---------------+-----------+----------------+---------------+---------------+---------+---------+------------+----------------+-------------------+---------+---------+----------------------+------------------+---------------+------------------+--------------------+-----------+-----------+--------------+--------------+--------------+--------------+-----------+-----------+-----------+-----------+----------+----------+----------+----------+--------------------+--------------------+--------------------+--------------------+---------+--------------------+--------------------+--------------------+--------------------+-----------------+-------------+-------------+-------------+-------------+-------------+---------------+----+----+----+----+----+----+----+----+----+----+----+----+----+----+----+----+----+----+----+----+----+----+----+----+----+\n",
      "|200006271946|  2020|             11|      F|              1|          2|               1|              1|             11|        1|     null|           0|            null|               null|     null|     null|                  null|              null|           null|           1501402|               Bel�m|         15|         PA|             0|             0|             0|             0|       null|       null|       null|       null|      null|      null|      null|      null|                null|                null|                null|                null|        1|                null|                null|                null|                null|             null|         null|         null|         null|         null|         null|           null|null|null|null|null|null|null|null|null|null|null|null|null|null|null|null|null|null|null|null|null|null|null|null|null|null|\n",
      "|200001195856|  2020|             11|      M|              2|          3|               1|              1|             11|        1|     null|           0|            null|               null|     null|     null|                  null|              null|           null|           2408102|               Natal|         24|         RN|             1|             1|             1|             1|        702|        689|        693|        698|     604.1|     661.7|     595.3|     711.3|BCBDBDCCCDBDDBADE...|BCAECABCDCEBDBBBD...|99999CADDEDADBAAB...|EBEBDEDAECBADCADD...|        1|ABBACBCCCDDDDBAEE...|BCEECDBCCDEBDBBBB...|99999CBDDEDBDBACE...|BBEADECAECBBXCEBA...|                1|          120|          120|          120|          120|          100|            580|null|null|null|null|null|null|null|null|null|null|null|null|null|null|null|null|null|null|null|null|null|null|null|null|null|\n",
      "|200001943954|  2020|              4|      F|              2|          3|               2|              2|              0|        2|        1|           0|         2927408|           Salvador|       29|       BA|                     2|                 1|              1|           2927408|            Salvador|         29|         BA|             0|             0|             0|             0|       null|       null|       null|       null|      null|      null|      null|      null|                null|                null|                null|                null|        0|                null|                null|                null|                null|             null|         null|         null|         null|         null|         null|           null|   B|   C|   A|   D|   3|   B|   A|   B|   A|   A|   A|   B|   A|   B|   A|   B|   A|   A|   B|   A|   A|   A|   A|   A|   A|\n",
      "|200001908998|  2020|              2|      M|              1|          3|               1|              2|              0|        2|        1|           0|         3547304|Santana de Parna�ba|       35|       SP|                     3|                 1|              1|           3547304| Santana de Parna�ba|         35|         SP|             1|             1|             1|             1|        700|        688|        692|        696|     620.8|       675|     624.2|     759.4|EBEDCCCDCBDBAECAE...|DABCCACCBCCDCADBD...|DCEAB99999AADAECC...|CBDBDCCDDEECBAABB...|        0|BDECCACBEBDEAEDAE...|DABCCAECBABECADBD...|DCEAD99999AADACCC...|EBDBXCCDAEECBAABA...|                1|          140|          200|          140|          120|          160|            760|null|null|null|null|null|null|null|null|null|null|null|null|null|null|null|null|null|null|null|null|null|null|null|null|null|\n",
      "|200001634757|  2020|              4|      F|              1|          3|               2|              1|              1|        1|     null|           0|            null|               null|     null|     null|                  null|              null|           null|           3121605|          Diamantina|         31|         MG|             0|             0|             0|             0|       null|       null|       null|       null|      null|      null|      null|      null|                null|                null|                null|                null|        1|                null|                null|                null|                null|             null|         null|         null|         null|         null|         null|           null|   B|   G|   B|   B|   3|   B|   A|   B|   D|   A|   A|   B|   A|   B|   A|   A|   A|   A|   B|   A|   B|   B|   A|   A|   B|\n",
      "|200003132410|  2020|              3|      F|              1|          3|               1|              1|              1|        1|     null|           0|            null|               null|     null|     null|                  null|              null|           null|           4305207|         Cerro Largo|         43|         RS|             1|             1|             1|             1|        598|        567|        577|        588|     498.1|     604.7|     505.4|     526.7|CABBEEACAEBEBCCDA...|ACEBBDDCADDAACEEA...|99999CBECEBEDBEEC...|BADCAAAEEDBEDBACE...|        1|CEDBDDDCACCBDAEBA...|DABCBDDDAEDBECECB...|AAEDCACEEECEAACBA...|AEBCCXCCCACCDABCC...|                1|          140|          120|          140|          140|          160|            700|   C|   B|   C|   B|   5|   C|   A|   B|   E|   A|   A|   B|   A|   A|   A|   B|   A|   A|   B|   B|   A|   D|   A|   B|   B|\n",
      "|200001379770|  2020|              9|      M|              1|          3|               1|              1|              6|        1|     null|           0|            null|               null|     null|     null|                  null|              null|           null|           2611606|              Recife|         26|         PE|             0|             0|             0|             0|       null|       null|       null|       null|      null|      null|      null|      null|                null|                null|                null|                null|        0|                null|                null|                null|                null|             null|         null|         null|         null|         null|         null|           null|null|null|null|null|null|null|null|null|null|null|null|null|null|null|null|null|null|null|null|null|null|null|null|null|null|\n",
      "|200001334237|  2020|              4|      M|              1|          1|               1|              1|              1|        1|     null|           0|            null|               null|     null|     null|                  null|              null|           null|           3550308|           S�o Paulo|         35|         SP|             1|             1|             1|             1|        699|        687|        691|        695|     604.6|     604.8|     562.1|     753.2|CECACBBCADACADDEE...|EAADABBEABCADDBAA...|CADDE99999AEEADBA...|BABADDBDAEBAEBBBE...|        0|DEAAECBBCDCBAEBEE...|EAAADBBEDBDACDBCC...|CADDE99999DEBBBBB...|BABBDABAEEBACBACD...|                1|          140|          120|          120|          120|          100|            600|null|null|null|null|null|null|null|null|null|null|null|null|null|null|null|null|null|null|null|null|null|null|null|null|null|\n",
      "|200006762554|  2020|              5|      F|              2|          3|               1|              1|              3|        1|     null|           0|            null|               null|     null|     null|                  null|              null|           null|           2507507|         Jo�o Pessoa|         25|         PB|             1|             1|             1|             1|        598|        567|        577|        588|     439.7|     383.5|     486.2|     448.5|DABCDCAEDEDCBEDCD...|ECCAEAEACDDABCBDA...|99999DDCBBABECCAC...|EEDCCEACEBAAAADCD...|        1|CEDBDDDCACCBDAEBA...|DABCBDDDAEDBECECB...|AAEDCACEEECEAACBA...|AEBCCXCCCACCDABCC...|                1|          120|          120|          120|          140|          100|            600|   B|   C|   C|   B|   2|   B|   A|   B|   C|   A|   A|   B|   A|   B|   A|   A|   A|   A|   B|   A|   A|   C|   A|   A|   A|\n",
      "|200005146210|  2020|              2|      M|              1|          2|               1|              2|              0|        2|        1|           0|            null|               null|     null|     null|                  null|              null|           null|           2304400|           Fortaleza|         23|         CE|             0|             0|             0|             0|       null|       null|       null|       null|      null|      null|      null|      null|                null|                null|                null|                null|        0|                null|                null|                null|                null|             null|         null|         null|         null|         null|         null|           null|   A|   A|   B|   A|   4|   B|   A|   B|   B|   A|   A|   B|   A|   A|   A|   A|   A|   A|   B|   A|   A|   A|   A|   A|   B|\n",
      "|200004902048|  2020|              6|      M|              1|          1|               1|              1|              3|        1|     null|           0|            null|               null|     null|     null|                  null|              null|           null|           3550308|           S�o Paulo|         35|         SP|             0|             0|             0|             0|       null|       null|       null|       null|      null|      null|      null|      null|                null|                null|                null|                null|        0|                null|                null|                null|                null|             null|         null|         null|         null|         null|         null|           null|   B|   B|   B|   B|   7|   B|   A|   B|   C|   A|   A|   B|   A|   A|   A|   B|   A|   A|   B|   A|   A|   C|   B|   B|   B|\n",
      "|200006138472|  2020|              7|      M|              1|          1|               1|              1|              0|        1|     null|           0|            null|               null|     null|     null|                  null|              null|           null|           2910727|           Eun�polis|         29|         BA|             1|             1|             1|             1|        598|        567|        577|        588|     491.1|     631.4|     627.9|     546.5|BAEACEDBACDDEDECE...|CDEABDDDABDBEABCA...|AACDC99999ABDBEDA...|EBCDBEBABDBBDABCB...|        0|CEDBDDDCACCBDAEBA...|DABCBDDDAEDBECECB...|AAEDCACEEECEAACBA...|AEBCCXCCCACCDABCC...|                1|          140|          120|          140|          120|          120|            640|   B|   C|   C|   B|   5|   B|   A|   B|   C|   A|   A|   B|   A|   A|   A|   A|   B|   A|   B|   A|   A|   C|   A|   B|   B|\n",
      "|200005613689|  2020|              3|      F|              1|          3|               1|              1|              1|        1|     null|           0|            null|               null|     null|     null|                  null|              null|           null|           5008305|         Tr�s Lagoas|         50|         MS|             0|             0|             0|             0|       null|       null|       null|       null|      null|      null|      null|      null|                null|                null|                null|                null|        0|                null|                null|                null|                null|             null|         null|         null|         null|         null|         null|           null|   D|   E|   A|   A|   3|   B|   A|   B|   C|   A|   A|   B|   A|   A|   A|   A|   A|   A|   A|   A|   A|   C|   A|   A|   A|\n",
      "|200004833505|  2020|             11|      F|              2|          2|               1|              1|             12|        1|     null|           0|            null|               null|     null|     null|                  null|              null|           null|           3547809|         Santo Andr�|         35|         SP|             0|             0|             0|             0|       null|       null|       null|       null|      null|      null|      null|      null|                null|                null|                null|                null|        1|                null|                null|                null|                null|             null|         null|         null|         null|         null|         null|           null|null|null|null|null|null|null|null|null|null|null|null|null|null|null|null|null|null|null|null|null|null|null|null|null|null|\n",
      "|200004570764|  2020|             11|      M|              1|          2|               1|              1|              0|        1|     null|           0|            null|               null|     null|     null|                  null|              null|           null|           2604007|             Carpina|         26|         PE|             0|             0|             0|             0|       null|       null|       null|       null|      null|      null|      null|      null|                null|                null|                null|                null|        1|                null|                null|                null|                null|             null|         null|         null|         null|         null|         null|           null|   H|   B|   F|   B|   3|   B|   A|   C|   D|   A|   A|   B|   A|   A|   A|   A|   A|   A|   B|   A|   A|   B|   A|   B|   B|\n",
      "|200001071590|  2020|              5|      F|              1|          3|               1|              1|              0|        1|     null|           0|            null|               null|     null|     null|                  null|              null|           null|           2800308|             Aracaju|         28|         SE|             0|             0|             0|             0|       null|       null|       null|       null|      null|      null|      null|      null|                null|                null|                null|                null|        1|                null|                null|                null|                null|             null|         null|         null|         null|         null|         null|           null|null|null|null|null|null|null|null|null|null|null|null|null|null|null|null|null|null|null|null|null|null|null|null|null|null|\n",
      "|200001934470|  2020|              7|      F|              1|          3|               1|              1|              4|        1|     null|           0|            null|               null|     null|     null|                  null|              null|           null|           2933307|Vit�ria da Conquista|         29|         BA|             0|             0|             0|             0|       null|       null|       null|       null|      null|      null|      null|      null|                null|                null|                null|                null|        1|                null|                null|                null|                null|             null|         null|         null|         null|         null|         null|           null|   A|   B|   F|   F|   3|   B|   A|   B|   C|   A|   A|   B|   B|   A|   A|   A|   A|   A|   B|   A|   A|   C|   A|   B|   B|\n",
      "|200006066678|  2020|              4|      M|              1|          1|               1|              1|              1|        1|     null|           0|            null|               null|     null|     null|                  null|              null|           null|           4106902|            Curitiba|         41|         PR|             0|             0|             0|             0|       null|       null|       null|       null|      null|      null|      null|      null|                null|                null|                null|                null|        0|                null|                null|                null|                null|             null|         null|         null|         null|         null|         null|           null|null|null|null|null|null|null|null|null|null|null|null|null|null|null|null|null|null|null|null|null|null|null|null|null|null|\n",
      "|200003343448|  2020|              7|      F|              1|          3|               1|              1|              3|        1|     null|           0|            null|               null|     null|     null|                  null|              null|           null|           2704302|              Macei�|         27|         AL|             1|             1|             1|             1|        597|        569|        580|        587|     422.4|     488.1|     559.1|     420.3|BDCEDABCECACBDCBB...|CAEADAEEDEDBDDCAB...|CADAA99999ABCBEBD...|BBCCDBEADABBE*CED...|        0|DDBACBDDDECDAEDCC...|DECCADEBDECBBECDD...|DCEAAEEEACAACBBEB...|DABCCAEDBBCCCABCA...|                1|          140|          180|          140|          160|          180|            800|   C|   C|   C|   B|   2|   B|   A|   B|   C|   A|   A|   B|   A|   A|   A|   A|   A|   A|   B|   B|   A|   C|   A|   B|   B|\n",
      "|200005966328|  2020|             13|      M|              1|          2|               1|              1|              0|        1|     null|           0|            null|               null|     null|     null|                  null|              null|           null|           1501402|               Bel�m|         15|         PA|             1|             1|             1|             1|        600|        570|        579|        589|       486|     503.3|     439.8|     405.6|DBEBBBCCDCBCAEBAE...|BABAEABBEDBDCDBBE...|99999EAADBDAABCBD...|BBAADDCCEABAAEBBA...|        1|DCDXDCCAEBADCBAAE...|BDDBECECBACDBDEEB...|AACDEEEECADBBCAAA...|BAECDBBXCCCBDBACC...|                1|          100|          100|          120|          100|           80|            500|   C|   D|   C|   C|   5|   D|   A|   C|   C|   A|   A|   B|   A|   A|   A|   A|   A|   A|   B|   B|   A|   C|   A|   A|   A|\n",
      "+------------+------+---------------+-------+---------------+-----------+----------------+---------------+---------------+---------+---------+------------+----------------+-------------------+---------+---------+----------------------+------------------+---------------+------------------+--------------------+-----------+-----------+--------------+--------------+--------------+--------------+-----------+-----------+-----------+-----------+----------+----------+----------+----------+--------------------+--------------------+--------------------+--------------------+---------+--------------------+--------------------+--------------------+--------------------+-----------------+-------------+-------------+-------------+-------------+-------------+---------------+----+----+----+----+----+----+----+----+----+----+----+----+----+----+----+----+----+----+----+----+----+----+----+----+----+\n",
      "only showing top 20 rows\n",
      "\n",
      "Total de linhas: None\n"
     ]
    }
   ],
   "source": [
    "total_participantes = spark.sql(\"\"\"\n",
    "SELECT \n",
    "   * FROM MICRODADOS_ENEM_2020\n",
    "\"\"\").show()\n",
    "\n",
    "# Exibe o total de linhas\n",
    "print(\"Total de linhas:\", total_participantes)\n"
   ]
  },
  {
   "cell_type": "markdown",
   "metadata": {},
   "source": [
    "Quantas pessoas que estudaram numa escola em Recife fizeram a prova do ENEM nessa mesma cidade?"
   ]
  },
  {
   "cell_type": "code",
   "execution_count": 57,
   "metadata": {},
   "outputs": [
    {
     "name": "stderr",
     "output_type": "stream",
     "text": [
      "[Stage 71:====================================================>   (15 + 1) / 16]\r"
     ]
    },
    {
     "name": "stdout",
     "output_type": "stream",
     "text": [
      "Total de linhas: 10735\n"
     ]
    },
    {
     "name": "stderr",
     "output_type": "stream",
     "text": [
      "                                                                                \r"
     ]
    }
   ],
   "source": [
    "total_participantes = spark.sql(\"\"\"\n",
    "SELECT \n",
    "   * FROM MICRODADOS_ENEM_2020\n",
    "   where NO_MUNICIPIO_ESC = 'Recife'\n",
    "\"\"\").count()\n",
    "\n",
    "# Exibe o total de linhas\n",
    "print(\"Total de linhas:\", total_participantes)\n"
   ]
  },
  {
   "cell_type": "markdown",
   "metadata": {},
   "source": [
    "Qual é a cidade (município da escola) que possui a MAIOR nota em Ciências Naturais?"
   ]
  },
  {
   "cell_type": "code",
   "execution_count": 87,
   "metadata": {},
   "outputs": [
    {
     "name": "stderr",
     "output_type": "stream",
     "text": [
      "[Stage 111:===================================================>   (15 + 1) / 16]\r"
     ]
    },
    {
     "name": "stdout",
     "output_type": "stream",
     "text": [
      "+--------------------+-----------------+----------------------+\n",
      "|           MUNICIPIO|    NOTA_MEDIA_CN|CONTAGEM_PARTICIPANTES|\n",
      "+--------------------+-----------------+----------------------+\n",
      "|           Biquinhas|            670.6|                     1|\n",
      "|    Coqueiros do Sul|            649.7|                     1|\n",
      "|          Novo Xingu|            647.2|                     1|\n",
      "|         Passa Vinte|            621.4|                     2|\n",
      "|Santo Ant�nio do ...|            614.3|                     1|\n",
      "|           Gon�alves|            608.6|                     1|\n",
      "|     Porto Vera Cruz|           608.55|                     2|\n",
      "|Vargem Grande do ...|605.7666666666668|                     3|\n",
      "|       Monte Formoso|            604.8|                     1|\n",
      "|      Pedro Teixeira|            595.1|                     1|\n",
      "|             Aguanil|           594.15|                     2|\n",
      "|            Montauri|            594.1|                     1|\n",
      "|        Mariano Moro|            593.3|                     1|\n",
      "| Santana do Manhua�u|            591.2|                     1|\n",
      "|            Holambra|587.1714285714286|                    56|\n",
      "|           Ubiretama|            586.3|                     2|\n",
      "|      Novo Itacolomi|            586.1|                     1|\n",
      "|            Sobr�lia|           583.55|                     4|\n",
      "|         Travesseiro|            581.6|                     1|\n",
      "|        Parais�polis|580.5822222222222|                    45|\n",
      "|            Joan�sia|           579.25|                     2|\n",
      "|  Fernandes Tourinho|            577.9|                     4|\n",
      "|              Turu�u|            577.9|                     1|\n",
      "|             Alegria|            577.6|                     1|\n",
      "|        Carlos Gomes|            575.6|                     2|\n",
      "|              Flora�|           574.65|                     2|\n",
      "|            Coroados|            571.8|                     1|\n",
      "|           Buritizal|            571.8|                     1|\n",
      "|               Paial|            570.4|                     1|\n",
      "|        Monte Horebe|            569.1|                     1|\n",
      "| Nova Cana� Paulista|            568.1|                     1|\n",
      "|    Saldanha Marinho|          568.025|                     4|\n",
      "|   Boqueir�o do Le�o|567.1999999999999|                     3|\n",
      "|    Iracema do Oeste|            566.8|                     1|\n",
      "|          Campan�rio|            565.1|                     1|\n",
      "|     Fernando Falc�o|            564.8|                     1|\n",
      "|            Cunhata�|564.7666666666667|                     3|\n",
      "|       Campo Florido|564.5666666666667|                     3|\n",
      "|  S�o Pedro do Buti�|564.3666666666667|                     6|\n",
      "|            Il�polis|            563.9|                     2|\n",
      "|            Valinhos|563.8314225053078|                   471|\n",
      "|         Cerro Largo|562.4454545454545|                    44|\n",
      "|   Nova Guataporanga|           561.95|                     2|\n",
      "|              Merc�s|           561.95|                     2|\n",
      "|            Viadutos|561.4000000000001|                     4|\n",
      "|         Turvol�ndia|            561.2|                     1|\n",
      "|           Nova Lima|560.9422924901186|                   253|\n",
      "|     Coronel Pacheco|            559.8|                     1|\n",
      "|                Iju�|559.4105485232067|                   237|\n",
      "|   Ribeir�o Vermelho|           559.05|                     4|\n",
      "+--------------------+-----------------+----------------------+\n",
      "only showing top 50 rows\n",
      "\n"
     ]
    },
    {
     "name": "stderr",
     "output_type": "stream",
     "text": [
      "                                                                                \r"
     ]
    }
   ],
   "source": [
    "spark.sql(\"\"\"\n",
    "SELECT \n",
    "    NO_MUNICIPIO_ESC AS MUNICIPIO,\n",
    "    AVG(NU_NOTA_CN) AS NOTA_MEDIA_CN,\n",
    "    COUNT(NU_INSCRICAO) AS CONTAGEM_PARTICIPANTES\n",
    "FROM \n",
    "    MICRODADOS_ENEM_2020\n",
    "WHERE \n",
    "    NU_NOTA_CN IS NOT NULL\n",
    "GROUP BY \n",
    "    NO_MUNICIPIO_ESC\n",
    "ORDER BY \n",
    "    NOTA_MEDIA_CN DESC;\n",
    "\"\"\").show(50)"
   ]
  },
  {
   "cell_type": "code",
   "execution_count": 71,
   "metadata": {},
   "outputs": [
    {
     "name": "stderr",
     "output_type": "stream",
     "text": [
      "[Stage 83:====================================================>   (15 + 1) / 16]\r"
     ]
    },
    {
     "name": "stdout",
     "output_type": "stream",
     "text": [
      "+----------------+----------+\n",
      "|NO_MUNICIPIO_ESC|NU_NOTA_CN|\n",
      "+----------------+----------+\n",
      "|     Jo�o Pessoa|     854.8|\n",
      "|            null|     854.8|\n",
      "|            null|     854.8|\n",
      "|        Bras�lia|     854.8|\n",
      "|            null|     851.1|\n",
      "|            null|     843.3|\n",
      "|            null|     843.3|\n",
      "|            null|     838.7|\n",
      "|            null|     835.3|\n",
      "|            null|     834.1|\n",
      "|            null|     833.5|\n",
      "|            null|     831.5|\n",
      "|           Bel�m|     831.5|\n",
      "|            null|     831.5|\n",
      "|         Goi�nia|     831.2|\n",
      "|            null|     829.6|\n",
      "|            null|     828.9|\n",
      "|            null|     827.9|\n",
      "|            null|     827.2|\n",
      "|            null|     827.2|\n",
      "+----------------+----------+\n",
      "only showing top 20 rows\n",
      "\n"
     ]
    },
    {
     "name": "stderr",
     "output_type": "stream",
     "text": [
      "                                                                                \r"
     ]
    }
   ],
   "source": [
    "spark.sql(\"\"\"\n",
    "SELECT NO_MUNICIPIO_ESC, NU_NOTA_CN\n",
    "FROM MICRODADOS_ENEM_2020\n",
    "ORDER BY NU_NOTA_CN DESC;\n",
    "\"\"\").show()"
   ]
  },
  {
   "cell_type": "markdown",
   "metadata": {},
   "source": [
    "Qual é a nota média em matemática dos alunos cuja mãe possui PELO MENOS o ensino superior completo, do sexo feminino que estudaram numa escola em Belo Horizonte?"
   ]
  },
  {
   "cell_type": "code",
   "execution_count": null,
   "metadata": {},
   "outputs": [
    {
     "name": "stderr",
     "output_type": "stream",
     "text": [
      "[Stage 17:====================================================>   (15 + 1) / 16]\r"
     ]
    },
    {
     "name": "stdout",
     "output_type": "stream",
     "text": [
      "+----+-----------------+----------------------+\n",
      "|Q002|   NOTA_MEDIA_MAT|CONTAGEM_PARTICIPANTES|\n",
      "+----+-----------------+----------------------+\n",
      "|   G| 594.751494302845|                276015|\n",
      "|   F|580.2815139587111|                313496|\n",
      "+----+-----------------+----------------------+\n",
      "\n"
     ]
    },
    {
     "name": "stderr",
     "output_type": "stream",
     "text": [
      "                                                                                \r"
     ]
    }
   ],
   "source": [
    "spark.sql(\"\"\"\n",
    "SELECT \n",
    "    Q002,\n",
    "    AVG(NU_NOTA_MT) AS NOTA_MEDIA_MAT,\n",
    "    COUNT(NU_INSCRICAO) AS CONTAGEM_PARTICIPANTES\n",
    "FROM \n",
    "    MICRODADOS_ENEM_2020\n",
    "WHERE \n",
    "    NU_NOTA_MT IS NOT NULL\n",
    "    AND Q002 IN ('F', 'G')\n",
    "GROUP BY \n",
    "    Q002\n",
    "ORDER BY \n",
    "    NOTA_MEDIA_MAT DESC;\n",
    "\"\"\").show(50)"
   ]
  },
  {
   "cell_type": "code",
   "execution_count": null,
   "metadata": {},
   "outputs": [
    {
     "name": "stderr",
     "output_type": "stream",
     "text": [
      "[Stage 23:====================================================>   (15 + 1) / 16]\r"
     ]
    },
    {
     "name": "stdout",
     "output_type": "stream",
     "text": [
      "+--------------+--------------+----------------------+\n",
      "|Q002_UNIFICADO|NOTA_MEDIA_MAT|CONTAGEM_PARTICIPANTES|\n",
      "+--------------+--------------+----------------------+\n",
      "|        F ou G|        587.06|                589511|\n",
      "+--------------+--------------+----------------------+\n",
      "\n"
     ]
    },
    {
     "name": "stderr",
     "output_type": "stream",
     "text": [
      "                                                                                \r"
     ]
    }
   ],
   "source": [
    "spark.sql(\"\"\"\n",
    "SELECT \n",
    "    CASE \n",
    "        WHEN Q002 IN ('F', 'G') THEN 'F ou G'\n",
    "        ELSE Q002\n",
    "    END AS Q002_UNIFICADO,\n",
    "    ROUND(AVG(NU_NOTA_MT), 2) AS NOTA_MEDIA_MAT,\n",
    "    COUNT(NU_INSCRICAO) AS CONTAGEM_PARTICIPANTES\n",
    "FROM \n",
    "    MICRODADOS_ENEM_2020\n",
    "WHERE \n",
    "    NU_NOTA_MT IS NOT NULL\n",
    "    AND Q002 IN ('F', 'G')\n",
    "GROUP BY \n",
    "    Q002_UNIFICADO\n",
    "ORDER BY \n",
    "    NOTA_MEDIA_MAT DESC;          \n",
    "\"\"\").show()"
   ]
  },
  {
   "cell_type": "markdown",
   "metadata": {},
   "source": [
    "Sobre o ENEM 2020, qual é a média da nota em matemática apenas para as alunas do sexo Feminino?"
   ]
  },
  {
   "cell_type": "code",
   "execution_count": 74,
   "metadata": {},
   "outputs": [
    {
     "name": "stderr",
     "output_type": "stream",
     "text": [
      "[Stage 87:====================================================>   (15 + 1) / 16]\r"
     ]
    },
    {
     "name": "stdout",
     "output_type": "stream",
     "text": [
      "+----+-----------------+---------------------+\n",
      "|SEXO|   NOTA_MEDIA_MAT|CONTAGEM_PARTICPANTES|\n",
      "+----+-----------------+---------------------+\n",
      "|   M|550.9087170619391|              1028787|\n",
      "|   F|500.6864256785913|              1568653|\n",
      "+----+-----------------+---------------------+\n",
      "\n"
     ]
    },
    {
     "name": "stderr",
     "output_type": "stream",
     "text": [
      "                                                                                \r"
     ]
    }
   ],
   "source": [
    "spark.sql(\"\"\"\n",
    "SELECT \n",
    "    TP_SEXO AS SEXO,\n",
    "    AVG(NU_NOTA_MT) AS NOTA_MEDIA_MAT,\n",
    "    COUNT(NU_INSCRICAO) AS CONTAGEM_PARTICPANTES\n",
    "FROM \n",
    "    MICRODADOS_ENEM_2020\n",
    "WHERE \n",
    "    NU_NOTA_MT IS NOT NULL\n",
    "GROUP BY \n",
    "    TP_SEXO\n",
    "ORDER BY \n",
    "    NOTA_MEDIA_MAT DESC\n",
    "\"\"\").show()"
   ]
  },
  {
   "cell_type": "markdown",
   "metadata": {},
   "source": [
    "Qual é a nota média em Ciências Humanas dos alunos que estudaram numa escola no estado de Santa Catarina e possuem PELO MENOS 1 banheiro em casa?"
   ]
  },
  {
   "cell_type": "code",
   "execution_count": 83,
   "metadata": {},
   "outputs": [
    {
     "name": "stderr",
     "output_type": "stream",
     "text": [
      "[Stage 105:===================================================>   (15 + 1) / 16]\r"
     ]
    },
    {
     "name": "stdout",
     "output_type": "stream",
     "text": [
      "+-----------------+----------------------+\n",
      "|    NOTA_MEDIA_CH|CONTAGEM_PARTICIPANTES|\n",
      "+-----------------+----------------------+\n",
      "|534.9679601006472|                117954|\n",
      "+-----------------+----------------------+\n",
      "\n"
     ]
    },
    {
     "name": "stderr",
     "output_type": "stream",
     "text": [
      "                                                                                \r"
     ]
    }
   ],
   "source": [
    "spark.sql(\"\"\"\n",
    "SELECT \n",
    "    AVG(NU_NOTA_CH) AS NOTA_MEDIA_CH,\n",
    "    COUNT(NU_INSCRICAO) AS CONTAGEM_PARTICIPANTES\n",
    "FROM \n",
    "    MICRODADOS_ENEM_2020\n",
    "WHERE \n",
    "    SG_UF_PROVA = 'SC'\n",
    "    AND Q008 <> 'A'\n",
    "GROUP BY \n",
    "    SG_UF_PROVA\n",
    "ORDER BY \n",
    "    NOTA_MEDIA_CH DESC;\n",
    "\"\"\").show()"
   ]
  },
  {
   "cell_type": "markdown",
   "metadata": {},
   "source": [
    "Qual é a média da nota em Ciências Humanas para os alunos do sexo masculino que estudaram numa escola no estado de São Paulo?"
   ]
  },
  {
   "cell_type": "code",
   "execution_count": 89,
   "metadata": {},
   "outputs": [
    {
     "name": "stderr",
     "output_type": "stream",
     "text": [
      "[Stage 117:===================================================>   (15 + 1) / 16]\r"
     ]
    },
    {
     "name": "stdout",
     "output_type": "stream",
     "text": [
      "+----------------+----------------------+\n",
      "|   NOTA_MEDIA_CH|CONTAGEM_PARTICIPANTES|\n",
      "+----------------+----------------------+\n",
      "|553.678013870444|                 47439|\n",
      "+----------------+----------------------+\n",
      "\n"
     ]
    },
    {
     "name": "stderr",
     "output_type": "stream",
     "text": [
      "                                                                                \r"
     ]
    }
   ],
   "source": [
    "spark.sql(\"\"\"\n",
    "SELECT \n",
    "    AVG(NU_NOTA_CH) AS NOTA_MEDIA_CH,\n",
    "    COUNT(NU_INSCRICAO) AS CONTAGEM_PARTICIPANTES\n",
    "FROM \n",
    "    MICRODADOS_ENEM_2020\n",
    "WHERE \n",
    "    NU_NOTA_CH IS NOT NULL\n",
    "    AND TP_SEXO = 'M'\n",
    "    AND SG_UF_ESC = 'SP'\n",
    "GROUP BY \n",
    "    SG_UF_ESC\n",
    "ORDER BY \n",
    "    NOTA_MEDIA_CH DESC;\n",
    "\"\"\").show(50)"
   ]
  },
  {
   "cell_type": "markdown",
   "metadata": {},
   "source": [
    "Quantas pessoas que estudaram numa escola no estado do Rio de Janeiro do sexo masculino obtiveram nota em matemática maior do que 600?"
   ]
  },
  {
   "cell_type": "code",
   "execution_count": 91,
   "metadata": {},
   "outputs": [
    {
     "name": "stderr",
     "output_type": "stream",
     "text": [
      "[Stage 121:===================================================>   (15 + 1) / 16]\r"
     ]
    },
    {
     "name": "stdout",
     "output_type": "stream",
     "text": [
      "+----------------------+\n",
      "|CONTAGEM_PARTICIPANTES|\n",
      "+----------------------+\n",
      "|                  8581|\n",
      "+----------------------+\n",
      "\n"
     ]
    },
    {
     "name": "stderr",
     "output_type": "stream",
     "text": [
      "                                                                                \r"
     ]
    }
   ],
   "source": [
    "total_participantes = spark.sql(\"\"\"\n",
    "SELECT COUNT(NU_INSCRICAO) AS CONTAGEM_PARTICIPANTES\n",
    "FROM MICRODADOS_ENEM_2020\n",
    "WHERE SG_UF_ESC = 'RJ'\n",
    "  AND TP_SEXO = 'M'\n",
    "  AND NU_NOTA_MT > 600;\n",
    "\"\"\").show()"
   ]
  }
 ],
 "metadata": {
  "kernelspec": {
   "display_name": "Python 3",
   "language": "python",
   "name": "python3"
  },
  "language_info": {
   "codemirror_mode": {
    "name": "ipython",
    "version": 3
   },
   "file_extension": ".py",
   "mimetype": "text/x-python",
   "name": "python",
   "nbconvert_exporter": "python",
   "pygments_lexer": "ipython3",
   "version": "3.10.12"
  },
  "orig_nbformat": 4
 },
 "nbformat": 4,
 "nbformat_minor": 2
}
